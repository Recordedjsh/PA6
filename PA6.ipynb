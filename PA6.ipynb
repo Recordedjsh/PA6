{
 "cells": [
  {
   "cell_type": "markdown",
   "id": "839eab5c",
   "metadata": {},
   "source": [
    "# Programming assignment 6 \n",
    "## Writing Functions\n",
    "### Jackson Hay"
   ]
  },
  {
   "cell_type": "markdown",
   "id": "1bfcb06d",
   "metadata": {},
   "source": [
    "### Task1: Write a Python program will calculate the area and perimeter of a triangle using two different functions named calcArea() and calcPerimeter()."
   ]
  },
  {
   "cell_type": "code",
   "execution_count": 10,
   "id": "ebb09071",
   "metadata": {},
   "outputs": [
    {
     "name": "stdout",
     "output_type": "stream",
     "text": [
      "Enter the length of side a: 5\n",
      "Enter the length of side b: 5\n",
      "Enter the length of side c: 5\n",
      "Area of the triangle: 10.83\n",
      "Perimeter of the triangle: 15.00\n"
     ]
    }
   ],
   "source": [
    "import math\n",
    "\n",
    "def calcArea(a=1, b=1, c=1):\n",
    "    s = (a + b + c) / 2\n",
    "    area = math.sqrt(s * (s - a) * (s - b) * (s - c))\n",
    "    return area\n",
    "\n",
    "def calcPerimeter(a=1, b=1, c=1):\n",
    "    perimeter = a + b + c\n",
    "    return perimeter\n",
    "\n",
    "side_a = input(\"Enter the length of side a: \")\n",
    "side_b = input(\"Enter the length of side b: \")\n",
    "side_c = input(\"Enter the length of side c: \")\n",
    "\n",
    "if side_a.isdigit() and side_b.isdigit() and side_c.isdigit():\n",
    "    side_a = int(side_a)\n",
    "    side_b = int(side_b)\n",
    "    side_c = int(side_c)\n",
    "    triangle_area = calcArea(side_a, side_b, side_c)\n",
    "    triangle_perimeter = calcPerimeter(side_a, side_b, side_c)\n",
    "    print(f\"Area of the triangle: {triangle_area:.2f}\")\n",
    "    print(f\"Perimeter of the triangle: {triangle_perimeter:.2f}\")\n",
    "else:\n",
    "    print(\"Invalid input. enter the valid numbers.\")"
   ]
  },
  {
   "cell_type": "markdown",
   "id": "3f18f38e",
   "metadata": {},
   "source": [
    "### Task2: Write a Python program to play “Guess the Number”. Your program should generate a random number between 1 and 1000 and then prompt the user for a guess."
   ]
  },
  {
   "cell_type": "code",
   "execution_count": 11,
   "id": "e5ac6342",
   "metadata": {},
   "outputs": [
    {
     "name": "stdout",
     "output_type": "stream",
     "text": [
      "Guess the number between 1 and 1000: 540\n",
      "Too low! Guess again\n",
      "Guess the number between 1 and 1000: 23\n",
      "Too low! Guess again\n",
      "Guess the number between 1 and 1000: 800\n",
      "Too low! Guess again\n",
      "Guess the number between 1 and 1000: 900\n",
      "Too high! Guess again\n",
      "Guess the number between 1 and 1000: 850\n",
      "Too high! Guess again\n",
      "Guess the number between 1 and 1000: 840\n",
      "Too high! Guess again\n",
      "Guess the number between 1 and 1000: 830\n",
      "Too high! Guess again\n",
      "Guess the number between 1 and 1000: 820\n",
      "Too high! Guess again\n",
      "Guess the number between 1 and 1000: 810\n",
      "Too high! Guess again\n",
      "Guess the number between 1 and 1000: 805\n",
      "Too low! Guess again\n",
      "Guess the number between 1 and 1000: 806\n",
      "Too low! Guess again\n",
      "Guess the number between 1 and 1000: 807\n",
      "Correct!\n"
     ]
    }
   ],
   "source": [
    "import random\n",
    "\n",
    "def evaluateGuess(user_guess, target_number):\n",
    "    if user_guess < target_number:\n",
    "        return \"Too low! Guess again\"\n",
    "    elif user_guess > target_number:\n",
    "        return \"Too high! Guess again\"\n",
    "    else:\n",
    "        return \"Correct!\"\n",
    "\n",
    "random_number = random.randint(1, 1000)\n",
    "\n",
    "while True:\n",
    "    user_input = input(\"Guess the number between 1 and 1000: \")\n",
    "    if user_input.isdigit():\n",
    "        user_guess = int(user_input)\n",
    "        result = evaluateGuess(user_guess, random_number)\n",
    "        print(result)\n",
    "        if result == \"Correct!\":\n",
    "            break\n",
    "    else:\n",
    "        print(\"Invalid input. Please enter a valid number.\")"
   ]
  },
  {
   "cell_type": "markdown",
   "id": "8767221e",
   "metadata": {},
   "source": [
    "### Task3: Write a Python program to calculate the mean temperature over a set of Fahrenheit temperature values."
   ]
  },
  {
   "cell_type": "code",
   "execution_count": 12,
   "id": "6aa05e63",
   "metadata": {},
   "outputs": [
    {
     "name": "stdout",
     "output_type": "stream",
     "text": [
      "Mean temperature over 5 days: 83.20°F\n"
     ]
    }
   ],
   "source": [
    "def meanTemp(*temperatures):\n",
    "    total_temperature = sum(temperatures)\n",
    "    num_days = len(temperatures)\n",
    "    mean_temperature = total_temperature / num_days\n",
    "    return num_days, mean_temperature\n",
    "\n",
    "temperatures = [78, 82, 75, 89, 92]\n",
    "\n",
    "num_days, mean_temperature = meanTemp(*temperatures)\n",
    "\n",
    "print(f\"Mean temperature over {num_days} days: {mean_temperature:.2f}°F\")"
   ]
  }
 ],
 "metadata": {
  "kernelspec": {
   "display_name": "Python 3 (ipykernel)",
   "language": "python",
   "name": "python3"
  },
  "language_info": {
   "codemirror_mode": {
    "name": "ipython",
    "version": 3
   },
   "file_extension": ".py",
   "mimetype": "text/x-python",
   "name": "python",
   "nbconvert_exporter": "python",
   "pygments_lexer": "ipython3",
   "version": "3.11.4"
  }
 },
 "nbformat": 4,
 "nbformat_minor": 5
}
